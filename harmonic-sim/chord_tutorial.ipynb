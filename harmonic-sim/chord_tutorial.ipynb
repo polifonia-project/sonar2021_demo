{
 "cells": [
  {
   "cell_type": "markdown",
   "source": [
    "# A tutorial for reading and manipulating chords\n",
    "\n",
    "At the moment, the tutorial cover the encoding part, but will be extended with all the remaining utilities for parsing and manipulating chords."
   ],
   "metadata": {}
  },
  {
   "cell_type": "code",
   "execution_count": 1,
   "source": [
    "import joblib\n",
    "\n",
    "from chord_encodings import DecompositionOneHotEncoding\n",
    "from utils import flatten_list\n"
   ],
   "outputs": [],
   "metadata": {}
  },
  {
   "cell_type": "code",
   "execution_count": 2,
   "source": [
    "with open(\"sonar_transposed_chords.joblib\", \"rb\") as fo:\n",
    "    chord_sequences = joblib.load(fo)"
   ],
   "outputs": [],
   "metadata": {}
  },
  {
   "cell_type": "markdown",
   "source": [
    "## Encoding chord progressions"
   ],
   "metadata": {}
  },
  {
   "cell_type": "code",
   "execution_count": 3,
   "source": [
    "# Computing the chord vocabulary -- the unique set of chord symbols\n",
    "chord_vocab = set(flatten_list(list(chord_sequences.values())))\n",
    "print(\"The chord vocabulary has size: {}\".format(len(chord_vocab)))"
   ],
   "outputs": [
    {
     "output_type": "stream",
     "name": "stdout",
     "text": [
      "The chord vocabulary has size: 722\n"
     ]
    }
   ],
   "metadata": {}
  },
  {
   "cell_type": "code",
   "execution_count": 4,
   "source": [
    "# From chord symbols to chord decompositions\n",
    "encdec = DecompositionOneHotEncoding(chord_vocab)\n",
    "print(\"Found {}/{} event/token classes\"\n",
    "    .format(encdec.num_classes, len(chord_vocab)))"
   ],
   "outputs": [
    {
     "output_type": "stream",
     "name": "stdout",
     "text": [
      "Found 290/722 event/token classes\n"
     ]
    }
   ],
   "metadata": {}
  },
  {
   "cell_type": "code",
   "execution_count": 5,
   "source": [
    "chord_sequences_encoded = {track_id: [encdec.encode_event(chord_figure) \\\n",
    "    for chord_figure in chord_sentence] \\\n",
    "    for track_id, chord_sentence in chord_sequences.items()}"
   ],
   "outputs": [],
   "metadata": {}
  },
  {
   "cell_type": "code",
   "execution_count": 6,
   "source": [
    "sample_encoded = chord_sequences_encoded[\"isophonics_0\"]\n",
    "sample_encoded[:10]"
   ],
   "outputs": [
    {
     "output_type": "execute_result",
     "data": {
      "text/plain": [
       "[42, 46, 19, 42, 42, 42, 19, 19, 42, 42]"
      ]
     },
     "metadata": {},
     "execution_count": 6
    }
   ],
   "metadata": {}
  },
  {
   "cell_type": "code",
   "execution_count": 7,
   "source": [
    "sample_decoded = [encdec.decode_event(evt) for evt in sample_encoded]\n",
    "sample_decoded[:10]"
   ],
   "outputs": [
    {
     "output_type": "execute_result",
     "data": {
      "text/plain": [
       "['C', 'F', 'G', 'C', 'C', 'C', 'G', 'G', 'C', 'C']"
      ]
     },
     "metadata": {},
     "execution_count": 7
    }
   ],
   "metadata": {}
  },
  {
   "cell_type": "code",
   "execution_count": 8,
   "source": [
    "with open(\"sonar_encoding_bundle.joblib\", \"wb\") as fo:\n",
    "    joblib.dump({\n",
    "        \"encoder_decoder\": encdec,\n",
    "        \"encoded\": chord_sequences_encoded}, fo)"
   ],
   "outputs": [],
   "metadata": {}
  },
  {
   "cell_type": "code",
   "execution_count": 9,
   "source": [
    "with open(\"sonar_encoding_bundle.joblib\", \"rb\") as fo:\n",
    "    test_read = joblib.load(fo)"
   ],
   "outputs": [],
   "metadata": {}
  },
  {
   "cell_type": "code",
   "execution_count": 10,
   "source": [
    "test_read.keys()"
   ],
   "outputs": [
    {
     "output_type": "execute_result",
     "data": {
      "text/plain": [
       "dict_keys(['encoder_decoder', 'encoded'])"
      ]
     },
     "metadata": {},
     "execution_count": 10
    }
   ],
   "metadata": {}
  },
  {
   "cell_type": "code",
   "execution_count": 12,
   "source": [
    "test_read[\"encoder_decoder\"].num_classes"
   ],
   "outputs": [
    {
     "output_type": "execute_result",
     "data": {
      "text/plain": [
       "290"
      ]
     },
     "metadata": {},
     "execution_count": 12
    }
   ],
   "metadata": {}
  },
  {
   "cell_type": "code",
   "execution_count": 15,
   "source": [
    "test_read[\"encoded\"][\"isophonics_0\"][:10]"
   ],
   "outputs": [
    {
     "output_type": "execute_result",
     "data": {
      "text/plain": [
       "[42, 46, 19, 42, 42, 42, 19, 19, 42, 42]"
      ]
     },
     "metadata": {},
     "execution_count": 15
    }
   ],
   "metadata": {}
  },
  {
   "cell_type": "code",
   "execution_count": null,
   "source": [],
   "outputs": [],
   "metadata": {}
  }
 ],
 "metadata": {
  "orig_nbformat": 4,
  "language_info": {
   "name": "python",
   "version": "3.9.6",
   "mimetype": "text/x-python",
   "codemirror_mode": {
    "name": "ipython",
    "version": 3
   },
   "pygments_lexer": "ipython3",
   "nbconvert_exporter": "python",
   "file_extension": ".py"
  },
  "kernelspec": {
   "name": "python3",
   "display_name": "Python 3.9.6 64-bit ('musilar': conda)"
  },
  "interpreter": {
   "hash": "a063213f03792ab588fc7e41dfc745810b8fe87fd60955dc8fcac58d288503d5"
  }
 },
 "nbformat": 4,
 "nbformat_minor": 2
}